{
 "cells": [
  {
   "cell_type": "code",
   "execution_count": 1,
   "id": "8f43ebdd-bf63-428e-aa44-7fa9a3009afc",
   "metadata": {},
   "outputs": [],
   "source": [
    "from itertools import combinations\n",
    "\n",
    "import numpy as np\n",
    "import pandas as pd\n",
    "\n",
    "%load_ext autoreload\n",
    "%autoreload 2"
   ]
  },
  {
   "cell_type": "markdown",
   "id": "8db54870-3e64-4236-8761-f7e7865b5db6",
   "metadata": {},
   "source": [
    "# Завдання:\n",
    "## 1. Використати наведені в таблиці експериментальні дані для розрахунку парних та часткових коефіцієнтів кореляції між всіма можливими парами змінних $X_1, X_2$ та $Y$\n",
    "|   $N$ п.п. |   Витрата 1-го реагента ($X_1$) |   Витрата 2-го реагента ($X_2$) |   Концентрація продукту на виході ($Y$) |\n",
    "|:----------:|:-------------------------------:|:-------------------------------:|:---------------------------------------:|\n",
    "|          1 |                            85.5 |                             255 |                                    17.3 |\n",
    "|          2 |                            81.7 |                             341 |                                    19.8 |\n",
    "|          3 |                            71.7 |                             373 |                                    30.1 |\n",
    "|          4 |                            62.7 |                             447 |                                    31.9 |\n",
    "|          5 |                            66.4 |                             446 |                                    38.3 |\n",
    "|          6 |                            70.6 |                             410 |                                    26.5 |\n",
    "|          7 |                            65   |                             495 |                                    36.2 |\n",
    "|          8 |                            72.8 |                             451 |                                    21   |\n",
    "|          9 |                            67.6 |                             565 |                                    29.5 |\n",
    "|         10 |                            90.2 |                             354 |                                    24.9 |\n",
    "|         11 |                            60.2 |                             549 |                                    25   |\n",
    "|         12 |                            74.8 |                             328 |                                    28   |\n",
    "|         13 |                            63.4 |                             555 |                                    33.9 |\n",
    "|         14 |                            74.2 |                             415 |                                    16.1 |\n",
    "|         15 |                            71.6 |                             415 |                                    21   |\n",
    "|         16 |                            60.9 |                             527 |                                    28.7 |\n",
    "|         17 |                            81.1 |                             379 |                                    30.3 |\n",
    "|         18 |                            71.5 |                             439 |                                    19.9 |\n",
    "|         19 |                            77.2 |                             350 |                                    22.6 |\n",
    "|         20 |                            91.2 |                             278 |                                    20.1 |        "
   ]
  },
  {
   "cell_type": "code",
   "execution_count": 2,
   "id": "c44614a0-9c12-4614-a54a-b0c6fbb0d08c",
   "metadata": {},
   "outputs": [
    {
     "name": "stdout",
     "output_type": "stream",
     "text": [
      "Correlation Coefficient between X_1 and X_2: -0.8534753001415539\n",
      "Partial Correlation Coefficient between X_1 and X_2, excluding Y: -0.8011451034897367\n",
      "\n",
      "Correlation Coefficient between X_1 and Y: -0.5475012651746156\n",
      "Partial Correlation Coefficient between X_1 and Y, excluding X_2: -0.27659083124076356\n",
      "\n",
      "Correlation Coefficient between X_2 and Y: 0.4947253756165764\n",
      "Partial Correlation Coefficient between X_2 and Y, excluding X_1: 0.06293830602466889\n",
      "\n"
     ]
    }
   ],
   "source": [
    "def corr_moment(x, y):\n",
    "    assert len(x) == len(y)\n",
    "    return np.sum((x - x.mean()) * (y - y.mean())) / (len(x) - 1)\n",
    "\n",
    "\n",
    "def corr_coef(x, y):\n",
    "    return corr_moment(x, y) / (x.std(ddof=1) * y.std(ddof=1))\n",
    "\n",
    "def partial_corr_coef(x1, y, x2):\n",
    "    r_x1y = corr_coef(x1, y)\n",
    "    r_x2y = corr_coef(x2, y)\n",
    "    r_x1x2 = corr_coef(x1, x2)\n",
    "    return (r_x1y - r_x2y * r_x1x2) / np.sqrt((1 - r_x2y ** 2) * (1 - r_x1x2 ** 2))\n",
    "\n",
    "\n",
    "df = pd.DataFrame(\n",
    "    {\n",
    "        'Витрата 1-го реагента ($X_1$)': [85.5, 81.7, 71.7, 62.7, 66.4, 70.6, 65.0, 72.8, 67.6, 90.2, 60.2, 74.8, 63.4, 74.2, 71.6, 60.9, 81.1, 71.5, 77.2, 91.2],\n",
    "        'Витрата 2-го реагента ($X_2$)': [255, 341, 373, 447, 446, 410, 495, 451, 565, 354, 549, 328, 555, 415, 415, 527, 379, 439, 350, 278],\n",
    "        'Концентрація продукту на виході ($Y$)': [17.3, 19.8, 30.1, 31.9, 38.3, 26.5, 36.2, 21.0, 29.5, 24.9, 25.0, 28.0, 33.9, 16.1, 21.0, 28.7, 30.3, 19.9, 22.6, 20.1]\n",
    "    },\n",
    "    pd.RangeIndex(1, 21, name='$N$ п.п.')\n",
    ")\n",
    "\n",
    "for col1, col2 in combinations(df.columns, 2):\n",
    "    col1_name = col1.split('$')[1]\n",
    "    col2_name = col2.split('$')[1]\n",
    "    col3 = df.columns.difference([col1, col2])[0]\n",
    "    col3_name = col3.split('$')[1]\n",
    "\n",
    "    col1 = df[col1]\n",
    "    col2 = df[col2]\n",
    "    col3 = df[col3]\n",
    "    \n",
    "    print(f'Correlation Coefficient between {col1_name} and {col2_name}:', corr_coef(col1, col2))\n",
    "    print(f'Partial Correlation Coefficient between {col1_name} and {col2_name}, excluding {col3_name}:', partial_corr_coef(col1, col2, col3), end='\\n\\n')"
   ]
  },
  {
   "cell_type": "markdown",
   "id": "aee71436-9cb9-420c-8082-cd0fd54f63c6",
   "metadata": {},
   "source": [
    "## 2. Розрахувати ті ж коефіцієнти при:\n",
    "- ### Зміні знаку $X_1$"
   ]
  },
  {
   "cell_type": "code",
   "execution_count": 3,
   "id": "d69ffcca-5976-4261-8b77-5981b20319f9",
   "metadata": {},
   "outputs": [
    {
     "name": "stdout",
     "output_type": "stream",
     "text": [
      "Correlation Coefficient between X_1 and X_2: 0.8534753001415539\n",
      "Partial Correlation Coefficient between X_1 and X_2, excluding Y: 0.8011451034897367\n",
      "\n",
      "Correlation Coefficient between X_1 and Y: 0.5475012651746156\n",
      "Partial Correlation Coefficient between X_1 and Y, excluding X_2: 0.27659083124076356\n",
      "\n",
      "Correlation Coefficient between X_2 and Y: -0.4947253756165764\n",
      "Partial Correlation Coefficient between X_2 and Y, excluding X_1: -0.06293830602466889\n",
      "\n"
     ]
    }
   ],
   "source": [
    "for col1, col2 in combinations(df.columns, 2):\n",
    "    col1_name = col1.split('$')[1]\n",
    "    col2_name = col2.split('$')[1]\n",
    "    col3 = df.columns.difference([col1, col2])[0]\n",
    "    col3_name = col3.split('$')[1]\n",
    "\n",
    "    col1 = -df[col1]\n",
    "    col2 = df[col2]\n",
    "    col3 = df[col3]\n",
    "    \n",
    "    print(f'Correlation Coefficient between {col1_name} and {col2_name}:', corr_coef(col1, col2))\n",
    "    print(f'Partial Correlation Coefficient between {col1_name} and {col2_name}, excluding {col3_name}:', partial_corr_coef(col1, col2, col3), end='\\n\\n')"
   ]
  },
  {
   "cell_type": "markdown",
   "id": "aec5394d-0fb1-42c2-8ad2-185af459a233",
   "metadata": {},
   "source": [
    "- ### При одночасній зміні знаків $X_1, X_2$"
   ]
  },
  {
   "cell_type": "code",
   "execution_count": 4,
   "id": "3df33d61-44ca-4d7f-a539-ac9d2f017615",
   "metadata": {},
   "outputs": [
    {
     "name": "stdout",
     "output_type": "stream",
     "text": [
      "Correlation Coefficient between X_1 and X_2: -0.8534753001415539\n",
      "Partial Correlation Coefficient between X_1 and X_2, excluding Y: -0.8011451034897367\n",
      "\n",
      "Correlation Coefficient between X_1 and Y: -0.5475012651746156\n",
      "Partial Correlation Coefficient between X_1 and Y, excluding X_2: -0.27659083124076356\n",
      "\n",
      "Correlation Coefficient between X_2 and Y: 0.4947253756165764\n",
      "Partial Correlation Coefficient between X_2 and Y, excluding X_1: 0.06293830602466889\n",
      "\n"
     ]
    }
   ],
   "source": [
    "for col1, col2 in combinations(df.columns, 2):\n",
    "    col1_name = col1.split('$')[1]\n",
    "    col2_name = col2.split('$')[1]\n",
    "    col3 = df.columns.difference([col1, col2])[0]\n",
    "    col3_name = col3.split('$')[1]\n",
    "\n",
    "    col1 = -df[col1]\n",
    "    col2 = -df[col2]\n",
    "    col3 = df[col3]\n",
    "    \n",
    "    print(f'Correlation Coefficient between {col1_name} and {col2_name}:', corr_coef(col1, col2))\n",
    "    print(f'Partial Correlation Coefficient between {col1_name} and {col2_name}, excluding {col3_name}:', partial_corr_coef(col1, col2, col3), end='\\n\\n')"
   ]
  },
  {
   "cell_type": "markdown",
   "id": "6232e852-6e8c-469f-873c-2d81a316bd02",
   "metadata": {},
   "source": [
    "- ### При одночасній зміні знаків $X_1, X_2$ та $Y$"
   ]
  },
  {
   "cell_type": "code",
   "execution_count": 5,
   "id": "b42a350c-5550-4749-bd4a-f4fceaac0ee8",
   "metadata": {},
   "outputs": [
    {
     "name": "stdout",
     "output_type": "stream",
     "text": [
      "Correlation Coefficient between X_1 and X_2: -0.8534753001415539\n",
      "Partial Correlation Coefficient between X_1 and X_2, excluding Y: -0.8011451034897367\n",
      "\n",
      "Correlation Coefficient between X_1 and Y: -0.5475012651746156\n",
      "Partial Correlation Coefficient between X_1 and Y, excluding X_2: -0.27659083124076356\n",
      "\n",
      "Correlation Coefficient between X_2 and Y: 0.4947253756165764\n",
      "Partial Correlation Coefficient between X_2 and Y, excluding X_1: 0.06293830602466889\n",
      "\n"
     ]
    }
   ],
   "source": [
    "for col1, col2 in combinations(df.columns, 2):\n",
    "    col1_name = col1.split('$')[1]\n",
    "    col2_name = col2.split('$')[1]\n",
    "    col3 = df.columns.difference([col1, col2])[0]\n",
    "    col3_name = col3.split('$')[1]\n",
    "\n",
    "    col1 = -df[col1]\n",
    "    col2 = -df[col2]\n",
    "    col3 = -df[col3]\n",
    "    \n",
    "    print(f'Correlation Coefficient between {col1_name} and {col2_name}:', corr_coef(col1, col2))\n",
    "    print(f'Partial Correlation Coefficient between {col1_name} and {col2_name}, excluding {col3_name}:', partial_corr_coef(col1, col2, col3), end='\\n\\n')"
   ]
  }
 ],
 "metadata": {
  "kernelspec": {
   "display_name": "Python 3 (ipykernel)",
   "language": "python",
   "name": "python3"
  },
  "language_info": {
   "codemirror_mode": {
    "name": "ipython",
    "version": 3
   },
   "file_extension": ".py",
   "mimetype": "text/x-python",
   "name": "python",
   "nbconvert_exporter": "python",
   "pygments_lexer": "ipython3",
   "version": "3.11.6"
  }
 },
 "nbformat": 4,
 "nbformat_minor": 5
}
